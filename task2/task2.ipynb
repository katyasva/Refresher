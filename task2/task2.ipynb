{
 "cells": [
  {
   "cell_type": "code",
   "execution_count": 2,
   "metadata": {},
   "outputs": [],
   "source": [
    "#Write a Python function in a separate jupyter notebook called get_array_stats() that takes a\n",
    "#random integer numpy array of shape (nxn) and returns:\n",
    "#1. Mean (column-wise)\n",
    "#2. Standard deviation (column-wise)\n",
    "#3. Minimum value\n",
    "#4. Maximum value\n",
    "#5. Computation time\n",
    "#Each value should be stored in a single variable. Do not hardcode the 5 requirements, use\n",
    "#ready-made Python functions from any library. Show the results for arrays of size:\n",
    "#1. (10x10)\n",
    "#2. (100x100)\n",
    "#3. (100x1000)\n",
    "#Try to well document your function.\n",
    "\n",
    "\n",
    "import numpy as np\n",
    "import time\n",
    "\n",
    "\n",
    "def get_array_stats(arr):\n",
    "    start_time = time.time()\n",
    "    col_mean = np.mean(arr, axis=0)\n",
    "    col_std = np.std(arr, axis=0)\n",
    "    min_val = np.min(arr)\n",
    "    max_val = np.max(arr)\n",
    "    comp_time = time.time() - start_time\n",
    "    \n",
    "    return col_mean, col_std, min_val, max_val, comp_time\n"
   ]
  },
  {
   "cell_type": "code",
   "execution_count": 10,
   "metadata": {},
   "outputs": [
    {
     "data": {
      "text/plain": [
       "array([0.50204591, 0.41246501, 0.59864661, 0.41766177, 0.51147251,\n",
       "       0.52349206, 0.41010028, 0.60692422, 0.47593678, 0.53475358])"
      ]
     },
     "execution_count": 10,
     "metadata": {},
     "output_type": "execute_result"
    }
   ],
   "source": [
    "# creating random arrays\n",
    "arr_1 = np.random.rand(10,10)\n",
    "arr_2 = np.random.rand(100,100)\n",
    "arr_3 = np.random.rand(100,1000)\n",
    "\n",
    "# showing computation time (last variable)\n",
    "*_, arr_1_time = get_array_stats(arr_1)\n",
    "*_, arr_2_time = get_array_stats(arr_2)\n",
    "*_, arr_3_time = get_array_stats(arr_3)\n",
    "\n"
   ]
  },
  {
   "cell_type": "code",
   "execution_count": 8,
   "metadata": {},
   "outputs": [
    {
     "name": "stdout",
     "output_type": "stream",
     "text": [
      "Time for first array: 0.00027\n",
      "Time for second array: 0.00024\n",
      "Time for third array: 0.00097\n",
      "\n"
     ]
    }
   ],
   "source": [
    "print(f\"Time for first array: {arr_1_time:.5f}\\n\"\n",
    "f\"Time for second array: {arr_2_time:.5f}\\n\"\n",
    "f\"Time for third array: {arr_3_time:.5f}\\n\")"
   ]
  },
  {
   "cell_type": "code",
   "execution_count": 26,
   "metadata": {},
   "outputs": [
    {
     "name": "stdout",
     "output_type": "stream",
     "text": [
      "14.6 µs ± 62.5 ns per loop (mean ± std. dev. of 7 runs, 100,000 loops each)\n"
     ]
    }
   ],
   "source": [
    "#function to get more accurate benchmarks\n",
    "\n",
    "%%timeit\n",
    "get_array_stats(arr_1)"
   ]
  },
  {
   "cell_type": "code",
   "execution_count": 27,
   "metadata": {},
   "outputs": [
    {
     "name": "stdout",
     "output_type": "stream",
     "text": [
      "28.8 µs ± 1.54 µs per loop (mean ± std. dev. of 7 runs, 10,000 loops each)\n"
     ]
    }
   ],
   "source": [
    "%%timeit\n",
    "get_array_stats(arr_2)"
   ]
  },
  {
   "cell_type": "code",
   "execution_count": 28,
   "metadata": {},
   "outputs": [
    {
     "name": "stdout",
     "output_type": "stream",
     "text": [
      "124 µs ± 851 ns per loop (mean ± std. dev. of 7 runs, 10,000 loops each)\n"
     ]
    }
   ],
   "source": [
    "%%timeit\n",
    "get_array_stats(arr_3)"
   ]
  }
 ],
 "metadata": {
  "kernelspec": {
   "display_name": "Python 3",
   "language": "python",
   "name": "python3"
  },
  "language_info": {
   "codemirror_mode": {
    "name": "ipython",
    "version": 3
   },
   "file_extension": ".py",
   "mimetype": "text/x-python",
   "name": "python",
   "nbconvert_exporter": "python",
   "pygments_lexer": "ipython3",
   "version": "3.9.6"
  }
 },
 "nbformat": 4,
 "nbformat_minor": 2
}
