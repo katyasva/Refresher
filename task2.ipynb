{
 "cells": [
  {
   "cell_type": "code",
   "execution_count": 1,
   "metadata": {},
   "outputs": [],
   "source": [
    "#Write a Python function in a separate jupyter notebook called get_array_stats() that takes a\n",
    "#random integer numpy array of shape (nxn) and returns:\n",
    "#1. Mean (column-wise)\n",
    "#2. Standard deviation (column-wise)\n",
    "#3. Minimum value\n",
    "#4. Maximum value\n",
    "#5. Computation time\n",
    "#Each value should be stored in a single variable. Do not hardcode the 5 requirements, use\n",
    "#ready-made Python functions from any library. Show the results for arrays of size:\n",
    "#1. (10x10)\n",
    "#2. (100x100)\n",
    "#3. (100x1000)\n",
    "#Try to well document your function.\n",
    "\n",
    "\n",
    "import numpy as np\n",
    "import time\n",
    "\n",
    "\n",
    "def get_array_stats(arr):\n",
    "    start_time = time.time()\n",
    "    col_mean = np.mean(arr, axis=0)\n",
    "    col_std = np.std(arr, axis=0)\n",
    "    min_val = np.min(arr)\n",
    "    max_val = np.max(arr)\n",
    "    comp_time = time.time() - start_time\n",
    "    \n",
    "    return col_mean, col_std, min_val, max_val, comp_time\n"
   ]
  },
  {
   "cell_type": "code",
   "execution_count": 2,
   "metadata": {},
   "outputs": [
    {
     "data": {
      "text/plain": [
       "(0.00010013580322265625, 5.5789947509765625e-05, 0.00023221969604492188)"
      ]
     },
     "execution_count": 2,
     "metadata": {},
     "output_type": "execute_result"
    }
   ],
   "source": [
    "arr_1 = np.random.rand(10,10)\n",
    "arr_2 = np.random.rand(100,100)\n",
    "arr_3 = np.random.rand(100,1000)\n",
    "\n",
    "(get_array_stats(arr_1)[4],\n",
    "get_array_stats(arr_2)[4],\n",
    "get_array_stats(arr_3)[4])"
   ]
  },
  {
   "cell_type": "code",
   "execution_count": null,
   "metadata": {},
   "outputs": [],
   "source": []
  }
 ],
 "metadata": {
  "kernelspec": {
   "display_name": "Python 3",
   "language": "python",
   "name": "python3"
  },
  "language_info": {
   "codemirror_mode": {
    "name": "ipython",
    "version": 3
   },
   "file_extension": ".py",
   "mimetype": "text/x-python",
   "name": "python",
   "nbconvert_exporter": "python",
   "pygments_lexer": "ipython3",
   "version": "3.9.6"
  }
 },
 "nbformat": 4,
 "nbformat_minor": 2
}
